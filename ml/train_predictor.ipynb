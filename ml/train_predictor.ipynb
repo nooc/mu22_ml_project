{
 "cells": [
  {
   "cell_type": "code",
   "execution_count": 1,
   "metadata": {},
   "outputs": [],
   "source": [
    "from os.path import join\n",
    "from time import time\n",
    "from typing import Any\n",
    "\n",
    "import numpy as np\n",
    "import pandas as pd\n",
    "import torch\n",
    "from sklearn.metrics import accuracy_score\n",
    "from torch import nn, tensor\n",
    "\n",
    "# Set device for torch.\n",
    "device = torch.device('cuda')"
   ]
  },
  {
   "cell_type": "code",
   "execution_count": null,
   "metadata": {},
   "outputs": [],
   "source": [
    "# Name\n",
    "nn_name = 'PredictorNN'\n",
    "\n",
    "class PredictorNN(nn.Module):\n",
    "    \"\"\"Input is 3 days of sentiment and stock values.\n",
    "    Output is 2 days of stock values.\n",
    "    \"\"\"\n",
    "    INPUT = 6\n",
    "    \n",
    "    def __init__(self) -> None:\n",
    "        super().__init__()\n",
    "        \n",
    "        self.fc = nn.Sequential(\n",
    "            nn.Linear(self.INPUT, self.INPUT*8),\n",
    "            nn.ReLU(),\n",
    "            nn.Linear(self.INPUT*8, self.INPUT*4),\n",
    "            nn.ReLU(),\n",
    "            nn.Linear(self.INPUT*4, 2),\n",
    "            nn.ReLU()\n",
    "        )\n",
    "\n",
    "    def forward(self, x):\n",
    "        return self.fc(x)\n",
    "\n",
    "    def save(self, path: str) -> bool:\n",
    "        try:\n",
    "            torch.save(self.state_dict(), path)\n",
    "            return True\n",
    "        except:\n",
    "            return False\n",
    "\n",
    "    def load(self, path: str) -> bool:\n",
    "        try:\n",
    "            self.load_state_dict(torch.load(path))\n",
    "            self.eval()\n",
    "            return True\n",
    "        except:\n",
    "            return False"
   ]
  }
 ],
 "metadata": {
  "kernelspec": {
   "display_name": "Python 3",
   "language": "python",
   "name": "python3"
  },
  "language_info": {
   "codemirror_mode": {
    "name": "ipython",
    "version": 3
   },
   "file_extension": ".py",
   "mimetype": "text/x-python",
   "name": "python",
   "nbconvert_exporter": "python",
   "pygments_lexer": "ipython3",
   "version": "3.11.1"
  },
  "orig_nbformat": 4
 },
 "nbformat": 4,
 "nbformat_minor": 2
}
