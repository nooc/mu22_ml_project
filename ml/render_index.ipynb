{
 "cells": [
  {
   "attachments": {},
   "cell_type": "markdown",
   "metadata": {},
   "source": [
    "# About\n",
    "\n",
    "Read in stock values."
   ]
  },
  {
   "cell_type": "code",
   "execution_count": 20,
   "metadata": {},
   "outputs": [],
   "source": [
    "from os.path import join\n",
    "from os import listdir\n",
    "import random\n",
    "import datetime as dt\n",
    "\n",
    "import pandas as pd\n",
    "import numpy as np"
   ]
  },
  {
   "attachments": {},
   "cell_type": "markdown",
   "metadata": {},
   "source": [
    "## Load data"
   ]
  },
  {
   "cell_type": "code",
   "execution_count": 23,
   "metadata": {},
   "outputs": [
    {
     "name": "stdout",
     "output_type": "stream",
     "text": [
      "Stock count: 19\n"
     ]
    }
   ],
   "source": [
    "SOURCE_DATA_FOLDER = ['..', 'datasets']\n",
    "STOCK_DATA_FOLDER = join(*SOURCE_DATA_FOLDER,'kaggle','paultimothymooney','nasdaq')\n",
    "MONTHS = ('12-2019','01-2020','02-2020','03-2020')\n",
    "\n",
    "stocks = []\n",
    "for stock_file in listdir(STOCK_DATA_FOLDER):\n",
    "    try:\n",
    "        stock_ = pd.read_csv(join(STOCK_DATA_FOLDER,stock_file))\n",
    "        stock_ = stock_[stock_['Date'].str.endswith(MONTHS)]\n",
    "        l_date = list(stock_['Date'])\n",
    "        l_close = list(stock_['Close'])\n",
    "\n",
    "        for i in range(len(l_date)):\n",
    "            d = l_date[i]\n",
    "            l_date[i] = f'{d[6:]}-{d[3:5]}-{d[:2]}'\n",
    "        stock_rows = list(zip(l_date,l_close))\n",
    "        stock_ = pd.DataFrame(stock_rows, columns=['Date','Value'])\n",
    "        stock_.sort_values(by='Date', inplace=True)\n",
    "        stocks.append(stock_)\n",
    "    except:\n",
    "        print('Error reading',stock_file)\n",
    "print('Stock count:',len(stocks))"
   ]
  },
  {
   "attachments": {},
   "cell_type": "markdown",
   "metadata": {},
   "source": [
    "### Fill missing days"
   ]
  },
  {
   "cell_type": "code",
   "execution_count": 40,
   "metadata": {},
   "outputs": [],
   "source": [
    "# inverted month filter\n",
    "MONTHS_i = ('2020-01','2020-02','2020-03')\n",
    "# end date treshold\n",
    "end_date = dt.date(2020,4,1)\n",
    "# pad from here\n",
    "begin_date = dt.date(2019,12,1)\n",
    "one_day = dt.timedelta(1) # delta to add in loop\n",
    "stocks_mod = []\n",
    "missing = 0\n",
    "# fix all stocks\n",
    "for stock in stocks:\n",
    "    # begin date\n",
    "    date = begin_date\n",
    "    # put dates in dictionary for easy lookup\n",
    "    dates = {}\n",
    "    for i in range(len(stock)):\n",
    "        dates[stock['Date'].iloc[i]] = stock['Value'].iloc[i]\n",
    "    # last stockl value used for padding missing value\n",
    "    last_val = None\n",
    "    dates_to_add = []\n",
    "    values_to_add = []\n",
    "    # chec kal ldated in interval\n",
    "    while date < end_date:\n",
    "        # get date str\n",
    "        curr = date.isoformat()\n",
    "        # if not in dates, pad (but only if we god pad value)\n",
    "        if not curr in dates and last_val:\n",
    "            dates_to_add.append(curr)\n",
    "            values_to_add.append(last_val)\n",
    "        elif curr in dates:\n",
    "            # get next pad value if we ghave one\n",
    "            last_val = dates[curr]\n",
    "        # add a day\n",
    "        date = date + one_day\n",
    "    # merge paddings if we found gaps we filled\n",
    "    if dates_to_add != []:\n",
    "        missing += 1\n",
    "        c_date = list(stock['Date'])+dates_to_add\n",
    "        c_value = list(stock['Value'])+values_to_add\n",
    "        s_ = pd.DataFrame(zip(c_date,c_value), columns=['Date','Value'])\n",
    "        # finter out unwanted dates\n",
    "        s_ = s_[s_['Date'].str.startswith(MONTHS_i)]\n",
    "        s_.sort_values(by='Date',inplace=True)\n",
    "        stocks_mod.append(s_)\n",
    "    else:\n",
    "        stocks_mod.append(stock)\n",
    "# replace\n",
    "stocks = stocks_mod\n",
    "if missing>0:\n",
    "    print(f'Fixed {missing} stocks.')"
   ]
  },
  {
   "attachments": {},
   "cell_type": "markdown",
   "metadata": {},
   "source": [
    "### Output"
   ]
  },
  {
   "cell_type": "code",
   "execution_count": 42,
   "metadata": {},
   "outputs": [
    {
     "name": "stdout",
     "output_type": "stream",
     "text": [
      "Writing DataFrame to file.\n",
      "Bye.\n"
     ]
    }
   ],
   "source": [
    "i=0\n",
    "stocks_mod = []\n",
    "for stock in stocks:\n",
    "    label = chr(ord('A')+i)\n",
    "    stocks_mod.append(stock.eval('Label = @label'))\n",
    "    i+=1\n",
    "df_out = pd.concat(stocks_mod)\n",
    "print('Writing DataFrame to file.')\n",
    "df_out.to_csv(join(*SOURCE_DATA_FOLDER,'stock_data.csv'))\n",
    "print('Bye.')"
   ]
  }
 ],
 "metadata": {
  "kernelspec": {
   "display_name": "Python 3",
   "language": "python",
   "name": "python3"
  },
  "language_info": {
   "codemirror_mode": {
    "name": "ipython",
    "version": 3
   },
   "file_extension": ".py",
   "mimetype": "text/x-python",
   "name": "python",
   "nbconvert_exporter": "python",
   "pygments_lexer": "ipython3",
   "version": "3.11.1"
  },
  "orig_nbformat": 4
 },
 "nbformat": 4,
 "nbformat_minor": 2
}
