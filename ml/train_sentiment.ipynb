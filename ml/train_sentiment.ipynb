{
 "cells": [
  {
   "attachments": {},
   "cell_type": "markdown",
   "metadata": {},
   "source": [
    "# Initialize"
   ]
  },
  {
   "attachments": {},
   "cell_type": "markdown",
   "metadata": {},
   "source": [
    "## Import functionality"
   ]
  },
  {
   "cell_type": "code",
   "execution_count": 2,
   "metadata": {},
   "outputs": [],
   "source": [
    "import gc\n",
    "import pickle\n",
    "import warnings\n",
    "from os.path import join\n",
    "from time import time\n",
    "from typing import Any\n",
    "\n",
    "import numpy as np\n",
    "import pandas as pd\n",
    "import torch\n",
    "from sklearn.experimental import enable_halving_search_cv  # noqa\n",
    "from sklearn.linear_model import LogisticRegression\n",
    "from sklearn.metrics import accuracy_score\n",
    "from sklearn.model_selection import HalvingGridSearchCV, train_test_split\n",
    "from sklearn.svm import LinearSVC\n",
    "from torch import nn, tensor\n",
    "from torch.utils.data import DataLoader, Dataset\n",
    "\n",
    "# Set device for torch.\n",
    "device = torch.device('cuda')"
   ]
  },
  {
   "attachments": {},
   "cell_type": "markdown",
   "metadata": {},
   "source": [
    "## Load data"
   ]
  },
  {
   "cell_type": "code",
   "execution_count": 3,
   "metadata": {},
   "outputs": [
    {
     "name": "stdout",
     "output_type": "stream",
     "text": [
      "Rows: 21440\n"
     ]
    }
   ],
   "source": [
    "# Data set folder\n",
    "SOURCE_DATA_FOLDER = ['..', 'datasets']\n",
    "# Load the sample data generated in 'build_sentiment.ipynb'.\n",
    "df_sentiment = pd.read_csv(join(*SOURCE_DATA_FOLDER, 'sentiment.csv'))\n",
    "print('Rows:', df_sentiment.shape[0])\n"
   ]
  },
  {
   "attachments": {},
   "cell_type": "markdown",
   "metadata": {},
   "source": [
    "## Split data"
   ]
  },
  {
   "cell_type": "code",
   "execution_count": 4,
   "metadata": {},
   "outputs": [
    {
     "name": "stdout",
     "output_type": "stream",
     "text": [
      "Train X/y: (16080, 652) (16080,)\n",
      "Test X/y: (5360, 652) (5360,)\n"
     ]
    }
   ],
   "source": [
    "# Split into features (X) and scores (y).\n",
    "y_set = np.array(list(df_sentiment['SCORE']))\n",
    "X_set = df_sentiment.to_numpy()[:, 1:]\n",
    "# Split into training and testing sets.\n",
    "X_train, X_test, y_train, y_test = train_test_split(\n",
    "    X_set, y_set)\n",
    "\n",
    "print('Train X/y:', X_train.shape, y_train.shape)\n",
    "print('Test X/y:', X_test.shape, y_test.shape)"
   ]
  },
  {
   "attachments": {},
   "cell_type": "markdown",
   "metadata": {},
   "source": [
    "## Load classifier function"
   ]
  },
  {
   "cell_type": "code",
   "execution_count": 7,
   "metadata": {},
   "outputs": [],
   "source": [
    "def load_or_calc(name: str, search: HalvingGridSearchCV, X: Any, y: Any) -> tuple[HalvingGridSearchCV, float]:\n",
    "    \"\"\"Calculator or load precalculated model.\n",
    "\n",
    "    Args:\n",
    "        name (str): _description_\n",
    "        search (HalvingGridSearchCV): _description_\n",
    "        X (Any): training featurtes\n",
    "        y (Any): training labels\n",
    "\n",
    "    Returns:\n",
    "        tuple[HalvingGridSearchCV,float|None]: Return the loaded or calculated estimator and calculation time.\n",
    "    \"\"\"\n",
    "    # Saved-state file\n",
    "    fn = name+'.bin'\n",
    "    try:\n",
    "        # Try opening saverd state.\n",
    "        with open(fn, 'rb') as f:\n",
    "            return pickle.load(f)\n",
    "    except:\n",
    "        # Search best hyperparams.\n",
    "        warnings.filterwarnings('ignore')\n",
    "        start_time = time()\n",
    "        search.fit(X, y)\n",
    "        ellapsed = time()-start_time\n",
    "        warnings.filterwarnings('default')\n",
    "        # Save state\n",
    "        with open(fn, 'wb') as f:\n",
    "            pickle.dump((search, ellapsed), f)\n",
    "        return (search, ellapsed)\n"
   ]
  },
  {
   "attachments": {},
   "cell_type": "markdown",
   "metadata": {},
   "source": [
    "# Optimize and Test"
   ]
  },
  {
   "cell_type": "code",
   "execution_count": 5,
   "metadata": {},
   "outputs": [],
   "source": [
    "# Test statistics\n",
    "METHODS = {}"
   ]
  },
  {
   "attachments": {},
   "cell_type": "markdown",
   "metadata": {},
   "source": [
    "## Optimize LogisticRegression"
   ]
  },
  {
   "cell_type": "code",
   "execution_count": 5,
   "metadata": {},
   "outputs": [],
   "source": [
    "# Name\n",
    "log_reg_name = 'LogisticRegression'\n",
    "# Possible LogisticRegression parameters.\n",
    "params = {\n",
    "    'penalty': ['l1', 'l2', 'elasticnet'],\n",
    "    'C': np.logspace(-4, 4, 10),\n",
    "    'solver': ['lbfgs', 'liblinear', 'newton-cg', 'newton-cholesky', 'sag', 'saga'],\n",
    "    'max_iter': [100, 1000, 2500, 5000]\n",
    "}\n",
    "# Parameter optimizer.\n",
    "search = HalvingGridSearchCV(\n",
    "    LogisticRegression(),\n",
    "    param_grid=params,\n",
    "    cv=5,\n",
    "    random_state=int(time()),\n",
    "    n_jobs=3,\n",
    "    verbose=1)\n"
   ]
  },
  {
   "cell_type": "code",
   "execution_count": 8,
   "metadata": {},
   "outputs": [],
   "source": [
    "# Calculate or load saved.\n",
    "classifier, calc_time = load_or_calc(log_reg_name, search, X_train, y_train)\n"
   ]
  },
  {
   "attachments": {},
   "cell_type": "markdown",
   "metadata": {},
   "source": [
    "### Test"
   ]
  },
  {
   "cell_type": "code",
   "execution_count": 14,
   "metadata": {},
   "outputs": [
    {
     "name": "stdout",
     "output_type": "stream",
     "text": [
      "Estimator: LogisticRegression(C=166.81005372000558, max_iter=5000, penalty='l1',\n",
      "                   solver='saga')\n",
      "Accuracy: 1.0\n"
     ]
    }
   ],
   "source": [
    "# Print best params\n",
    "print('Estimator:', classifier.best_estimator_)\n",
    "# Test accuracy\n",
    "predicted = classifier.predict(X_test)\n",
    "accuracy = accuracy_score(y_test, predicted)\n",
    "print(\"Accuracy:\", accuracy)\n",
    "# Store results\n",
    "METHODS[log_reg_name] = {'est': str(\n",
    "    classifier.best_estimator_), 'acc': accuracy, 'time': calc_time}\n"
   ]
  },
  {
   "attachments": {},
   "cell_type": "markdown",
   "metadata": {},
   "source": [
    "## Optimize LinearSVC"
   ]
  },
  {
   "cell_type": "code",
   "execution_count": 19,
   "metadata": {},
   "outputs": [],
   "source": [
    "# Name\n",
    "lsvc_name = 'LinearSVC'\n",
    "# Possible LinearSVC parameters.\n",
    "params = {\n",
    "    'penalty': ['l1', 'l2'],\n",
    "    'loss': ['hinge', 'squared_hinge'],\n",
    "    'C': np.arange(0.01, 10, 1),\n",
    "    'max_iter': [100, 1000, 2500, 5000]\n",
    "}\n",
    "# Parameter optimizer.\n",
    "search = HalvingGridSearchCV(\n",
    "    LinearSVC(),\n",
    "    param_grid=params,\n",
    "    cv=5,\n",
    "    random_state=int(time()),\n",
    "    n_jobs=3,\n",
    "    verbose=1)\n"
   ]
  },
  {
   "cell_type": "code",
   "execution_count": 21,
   "metadata": {},
   "outputs": [
    {
     "name": "stdout",
     "output_type": "stream",
     "text": [
      "n_iterations: 5\n",
      "n_required_iterations: 5\n",
      "n_possible_iterations: 5\n",
      "min_resources_: 197\n",
      "max_resources_: 16000\n",
      "aggressive_elimination: False\n",
      "factor: 3\n",
      "----------\n",
      "iter: 0\n",
      "n_candidates: 160\n",
      "n_resources: 197\n",
      "Fitting 5 folds for each of 160 candidates, totalling 800 fits\n",
      "----------\n",
      "iter: 1\n",
      "n_candidates: 54\n",
      "n_resources: 591\n",
      "Fitting 5 folds for each of 54 candidates, totalling 270 fits\n",
      "----------\n",
      "iter: 2\n",
      "n_candidates: 18\n",
      "n_resources: 1773\n",
      "Fitting 5 folds for each of 18 candidates, totalling 90 fits\n",
      "----------\n",
      "iter: 3\n",
      "n_candidates: 6\n",
      "n_resources: 5319\n",
      "Fitting 5 folds for each of 6 candidates, totalling 30 fits\n",
      "----------\n",
      "iter: 4\n",
      "n_candidates: 2\n",
      "n_resources: 15957\n",
      "Fitting 5 folds for each of 2 candidates, totalling 10 fits\n"
     ]
    }
   ],
   "source": [
    "# Calculate or load saved.\n",
    "classifier, calc_time = load_or_calc(lsvc_name, search, X_train, y_train)\n"
   ]
  },
  {
   "attachments": {},
   "cell_type": "markdown",
   "metadata": {},
   "source": [
    "### Test"
   ]
  },
  {
   "cell_type": "code",
   "execution_count": 22,
   "metadata": {},
   "outputs": [
    {
     "name": "stdout",
     "output_type": "stream",
     "text": [
      "Estimator: LinearSVC(C=0.01, max_iter=5000)\n",
      "Accuracy: 0.9886029411764706\n"
     ]
    }
   ],
   "source": [
    "# Print best params\n",
    "print('Estimator:', classifier.best_estimator_)\n",
    "# Test accuracy\n",
    "predicted = classifier.predict(X_test)\n",
    "accuracy = accuracy_score(y_test, predicted)\n",
    "print(\"Accuracy:\", accuracy)\n",
    "# Store results\n",
    "METHODS[lsvc_name] = {'est': str(\n",
    "    classifier.best_estimator_), 'acc': accuracy, 'time': calc_time}\n"
   ]
  },
  {
   "attachments": {},
   "cell_type": "markdown",
   "metadata": {},
   "source": [
    "## Train Neural Net"
   ]
  },
  {
   "cell_type": "code",
   "execution_count": 24,
   "metadata": {},
   "outputs": [],
   "source": [
    "# Name\n",
    "nn_name = 'SentimentNN'\n",
    "\n",
    "\n",
    "class SentimentNN(nn.Module):\n",
    "    def __init__(self, num_features: int) -> None:\n",
    "        super().__init__()\n",
    "        self.fc = nn.Sequential(\n",
    "            nn.Linear(num_features, 256),\n",
    "            nn.ReLU(),\n",
    "            nn.Linear(256, 128),\n",
    "            nn.ReLU(),\n",
    "            nn.Linear(128, 1)\n",
    "        )\n",
    "        self.calc_time = 0\n",
    "\n",
    "    def forward(self, x):\n",
    "        return self.fc(x)\n",
    "\n",
    "    def save(self, path: str) -> bool:\n",
    "        # save results to file\n",
    "        try:\n",
    "            torch.save(self.state_dict(), path)\n",
    "            return True\n",
    "        except:\n",
    "            return False\n",
    "\n",
    "    def load(self, path: str) -> bool:\n",
    "        try:\n",
    "            self.load_state_dict(torch.load(path))\n",
    "            self.eval()\n",
    "            return True\n",
    "        except:\n",
    "            return False\n",
    "\n",
    "    def set_calc_time(self, ellapsed: float):\n",
    "        self.calc_time = ellapsed\n",
    "\n",
    "\n",
    "class SentimentData(Dataset):\n",
    "    def __init__(self, X, y) -> None:\n",
    "        self.X = X\n",
    "        self.y = y\n",
    "\n",
    "    def __getitem__(self, index) -> Any:\n",
    "        return (\n",
    "            torch.tensor(self.X[index], dtype=torch.float32, device=device),\n",
    "            torch.tensor(self.y[index], dtype=torch.float32, device=device)\n",
    "        )\n",
    "\n",
    "    def __len__(self):\n",
    "        return len(self.X)\n"
   ]
  },
  {
   "cell_type": "code",
   "execution_count": 27,
   "metadata": {},
   "outputs": [
    {
     "name": "stdout",
     "output_type": "stream",
     "text": [
      "Epoch 0: loss=0.2802768349647522\n",
      "Epoch 1: loss=0.8494781851768494\n",
      "Epoch 2: loss=2.013451337814331\n",
      "Epoch 3: loss=0.49250373244285583\n",
      "Epoch 4: loss=0.5346307158470154\n",
      "Epoch 5: loss=0.37009379267692566\n",
      "Epoch 6: loss=0.31181108951568604\n",
      "Epoch 7: loss=0.18986335396766663\n",
      "Epoch 8: loss=0.06284872442483902\n",
      "Epoch 9: loss=0.035029470920562744\n",
      "Epoch 10: loss=0.017338460311293602\n",
      "Epoch 11: loss=0.020487628877162933\n",
      "Epoch 12: loss=0.05104618892073631\n",
      "Epoch 13: loss=0.1201622262597084\n",
      "Epoch 14: loss=0.056460488587617874\n",
      "Epoch 15: loss=0.20926690101623535\n",
      "Epoch 16: loss=0.06676097214221954\n",
      "Epoch 17: loss=0.04555931314826012\n",
      "Epoch 18: loss=0.03300417587161064\n",
      "Epoch 19: loss=0.02351655438542366\n",
      "Epoch 20: loss=0.011846923269331455\n",
      "Epoch 21: loss=0.014676803722977638\n",
      "Epoch 22: loss=0.01197007019072771\n",
      "Epoch 23: loss=0.004481075331568718\n",
      "Epoch 24: loss=0.004883012268692255\n",
      "Epoch 25: loss=0.010673661716282368\n",
      "Epoch 26: loss=0.014377358369529247\n",
      "Epoch 27: loss=0.010781948454678059\n",
      "Epoch 28: loss=0.0031122106593102217\n",
      "Epoch 29: loss=0.005842479411512613\n",
      "Epoch 30: loss=0.017094401642680168\n",
      "Epoch 31: loss=0.018377861008048058\n",
      "Epoch 32: loss=0.010746932588517666\n",
      "Epoch 33: loss=0.004927571397274733\n",
      "Epoch 34: loss=0.011482696048915386\n",
      "Epoch 35: loss=0.02052505873143673\n",
      "Epoch 36: loss=0.014627202413976192\n",
      "Epoch 37: loss=0.0076878913678228855\n",
      "Epoch 38: loss=0.024891439825296402\n",
      "Epoch 39: loss=0.03897629678249359\n",
      "Epoch 40: loss=0.028926104307174683\n",
      "Epoch 41: loss=0.007261150982230902\n",
      "Epoch 42: loss=0.015100843273103237\n",
      "Epoch 43: loss=0.03923129662871361\n",
      "Epoch 44: loss=0.02271587960422039\n",
      "Epoch 45: loss=0.009817852638661861\n",
      "Epoch 46: loss=0.03582088649272919\n",
      "Epoch 47: loss=0.04849383234977722\n",
      "Epoch 48: loss=0.023661693558096886\n",
      "Epoch 49: loss=0.034744273871183395\n",
      "Epoch 50: loss=0.05208887532353401\n",
      "Epoch 51: loss=0.03294368460774422\n",
      "Epoch 52: loss=0.031008511781692505\n",
      "Epoch 53: loss=0.051161009818315506\n",
      "Epoch 54: loss=0.04101935401558876\n",
      "Epoch 55: loss=0.018787702545523643\n",
      "Epoch 56: loss=0.05787467584013939\n",
      "Epoch 57: loss=0.03844073414802551\n",
      "Epoch 58: loss=0.007576183881610632\n",
      "Epoch 59: loss=0.04653085395693779\n",
      "Epoch 60: loss=0.031876932829618454\n",
      "Epoch 61: loss=0.011161050759255886\n",
      "Epoch 62: loss=0.040021587163209915\n",
      "Epoch 63: loss=0.037211351096630096\n",
      "Epoch 64: loss=0.02645227685570717\n",
      "Epoch 65: loss=0.029153037816286087\n",
      "Epoch 66: loss=0.05688755586743355\n",
      "Epoch 67: loss=0.036332935094833374\n",
      "Epoch 68: loss=0.0168080423027277\n",
      "Epoch 69: loss=0.09610222280025482\n",
      "Epoch 70: loss=0.016603151336312294\n",
      "Epoch 71: loss=0.002526239724829793\n",
      "Epoch 72: loss=0.05835682898759842\n",
      "Epoch 73: loss=0.013440042734146118\n",
      "Epoch 74: loss=0.007128553930670023\n",
      "Epoch 75: loss=0.02159011922776699\n",
      "Epoch 76: loss=0.016041452065110207\n",
      "Epoch 77: loss=0.0142320292070508\n",
      "Epoch 78: loss=0.008962209336459637\n",
      "Epoch 79: loss=0.016688480973243713\n",
      "Epoch 80: loss=0.017107054591178894\n",
      "Epoch 81: loss=0.006200477480888367\n",
      "Epoch 82: loss=0.01898873597383499\n",
      "Epoch 83: loss=0.022335952147841454\n",
      "Epoch 84: loss=0.006012586411088705\n",
      "Epoch 85: loss=0.01473400741815567\n",
      "Epoch 86: loss=0.018114781007170677\n",
      "Epoch 87: loss=0.008345870301127434\n",
      "Epoch 88: loss=0.009201784618198872\n",
      "Epoch 89: loss=0.014288395643234253\n",
      "Epoch 90: loss=0.00938069075345993\n",
      "Epoch 91: loss=0.004612702410668135\n",
      "Epoch 92: loss=0.006864801049232483\n",
      "Epoch 93: loss=0.008613327518105507\n",
      "Epoch 94: loss=0.003684207098558545\n",
      "Epoch 95: loss=0.00096682965522632\n",
      "Epoch 96: loss=0.004540655761957169\n",
      "Epoch 97: loss=0.007039377000182867\n",
      "Epoch 98: loss=0.0032083732075989246\n",
      "Epoch 99: loss=0.001125168870203197\n",
      "Epoch 100: loss=0.006174604408442974\n",
      "Epoch 101: loss=0.008270421996712685\n",
      "Epoch 102: loss=0.0033383553382009268\n",
      "Epoch 103: loss=0.0011764270020648837\n",
      "Epoch 104: loss=0.005279646720737219\n",
      "Epoch 105: loss=0.008224260061979294\n",
      "Epoch 106: loss=0.004427144303917885\n",
      "Epoch 107: loss=0.0004550945886876434\n",
      "Epoch 108: loss=0.0037901774048805237\n",
      "Epoch 109: loss=0.009900925680994987\n",
      "Epoch 110: loss=0.008871863596141338\n",
      "Epoch 111: loss=0.003768338356167078\n",
      "Epoch 112: loss=0.0022237920202314854\n",
      "Epoch 113: loss=0.008500441908836365\n",
      "Epoch 114: loss=0.012945053167641163\n",
      "Epoch 115: loss=0.007774960249662399\n",
      "Epoch 116: loss=0.002649069530889392\n",
      "Epoch 117: loss=0.01037233043462038\n",
      "Epoch 118: loss=0.019615590572357178\n",
      "Epoch 119: loss=0.017621317878365517\n",
      "Epoch 120: loss=0.004952661227434874\n",
      "Epoch 121: loss=0.0024232694413512945\n",
      "Epoch 122: loss=0.017869723960757256\n",
      "Epoch 123: loss=0.02677365019917488\n",
      "Epoch 124: loss=0.015548357740044594\n",
      "Epoch 125: loss=0.009909558109939098\n",
      "Epoch 126: loss=0.023309482261538506\n",
      "Epoch 127: loss=0.03536253049969673\n",
      "Epoch 128: loss=0.01877058856189251\n",
      "Epoch 129: loss=0.004507444333285093\n",
      "Epoch 130: loss=0.02119276113808155\n",
      "Epoch 131: loss=0.03773373365402222\n",
      "Epoch 132: loss=0.02002398483455181\n",
      "Epoch 133: loss=0.008894330821931362\n",
      "Epoch 134: loss=0.03168756887316704\n",
      "Epoch 135: loss=0.041118305176496506\n",
      "Epoch 136: loss=0.016004566103219986\n",
      "Epoch 137: loss=0.0165268424898386\n",
      "Epoch 138: loss=0.039829857647418976\n",
      "Epoch 139: loss=0.03645278885960579\n",
      "Epoch 140: loss=0.015157808549702168\n",
      "Epoch 141: loss=0.026973983272910118\n",
      "Epoch 142: loss=0.038057126104831696\n",
      "Epoch 143: loss=0.01747596263885498\n",
      "Epoch 144: loss=0.011891684494912624\n",
      "Epoch 145: loss=0.03179685026407242\n",
      "Epoch 146: loss=0.019838053733110428\n",
      "Epoch 147: loss=0.007808116730302572\n",
      "Epoch 148: loss=0.01707289181649685\n",
      "Epoch 149: loss=0.019602462649345398\n",
      "Epoch 150: loss=0.006648999638855457\n",
      "Epoch 151: loss=0.0032601975835859776\n",
      "Epoch 152: loss=0.013120180927217007\n",
      "Epoch 153: loss=0.01110368873924017\n",
      "Epoch 154: loss=0.0018259490607306361\n",
      "Epoch 155: loss=0.0046075922437012196\n",
      "Epoch 156: loss=0.013838238082826138\n",
      "Epoch 157: loss=0.009955075569450855\n",
      "Epoch 158: loss=0.0025551868602633476\n",
      "Epoch 159: loss=0.00743746617808938\n",
      "Epoch 160: loss=0.013365059159696102\n",
      "Epoch 161: loss=0.006634991616010666\n",
      "Epoch 162: loss=0.0007743729511275887\n",
      "Epoch 163: loss=0.006869326811283827\n",
      "Epoch 164: loss=0.011137432418763638\n",
      "Epoch 165: loss=0.0049024163745343685\n",
      "Epoch 166: loss=0.0007193466881290078\n",
      "Epoch 167: loss=0.007310493383556604\n",
      "Epoch 168: loss=0.012445779517292976\n",
      "Epoch 169: loss=0.005979978479444981\n",
      "Epoch 170: loss=0.002153433160856366\n",
      "Epoch 171: loss=0.007780890446156263\n",
      "Epoch 172: loss=0.010661083273589611\n",
      "Epoch 173: loss=0.005382254719734192\n",
      "Epoch 174: loss=0.00037411192897707224\n",
      "Epoch 175: loss=0.005241141654551029\n",
      "Epoch 176: loss=0.011924514546990395\n",
      "Epoch 177: loss=0.009135893546044827\n",
      "Epoch 178: loss=0.003803169121965766\n",
      "Epoch 179: loss=0.006144923623651266\n",
      "Epoch 180: loss=0.010722118429839611\n",
      "Epoch 181: loss=0.009703293442726135\n",
      "Epoch 182: loss=0.0019655723590403795\n",
      "Epoch 183: loss=0.004247473087161779\n",
      "Epoch 184: loss=0.014190834946930408\n",
      "Epoch 185: loss=0.016756027936935425\n",
      "Epoch 186: loss=0.007923428900539875\n",
      "Epoch 187: loss=0.0022790059447288513\n",
      "Epoch 188: loss=0.010057873092591763\n",
      "Epoch 189: loss=0.015956668183207512\n",
      "Epoch 190: loss=0.0072878883220255375\n",
      "Epoch 191: loss=0.002273442456498742\n",
      "Epoch 192: loss=0.012484448030591011\n",
      "Epoch 193: loss=0.02221226692199707\n",
      "Epoch 194: loss=0.013816657476127148\n",
      "Epoch 195: loss=0.0030801091343164444\n",
      "Epoch 196: loss=0.008141872473061085\n",
      "Epoch 197: loss=0.018073905259370804\n",
      "Epoch 198: loss=0.014065238647162914\n",
      "Epoch 199: loss=0.004030597396194935\n",
      "Last epoch 199: loss=0.004030597396194935\n",
      "Accuracy: 0.9044624423211002\n"
     ]
    }
   ],
   "source": [
    "model_file = 'SentimentNN.bin'\n",
    "sentiment_model = SentimentNN(X_train.shape[1]).to(\n",
    "    device=device, dtype=torch.float32)\n",
    "\n",
    "if not sentiment_model.load(model_file):\n",
    "    # Data batching\n",
    "    data_set = SentimentData(X_train, y_train)\n",
    "    loader = DataLoader(data_set, batch_size=1024, shuffle=True)\n",
    "    # create model\n",
    "    sentiment_model = SentimentNN(X_train.shape[1]).to(\n",
    "        device=device, dtype=torch.float32)\n",
    "    # create optimizer cunction\n",
    "    optimizer = torch.optim.Adam(sentiment_model.parameters())\n",
    "    # create loss function\n",
    "    criterion = nn.MSELoss()\n",
    "    # set passes\n",
    "    passes = 200\n",
    "    start_time = time()\n",
    "    # do training iterations\n",
    "    for epoch in range(passes):\n",
    "        # reset gradients\n",
    "        optimizer.zero_grad()\n",
    "        # batch load data each pass\n",
    "        for X_, y_ in loader:\n",
    "            # prediction\n",
    "            predicted = sentiment_model(X_).reshape(y_.shape[0])\n",
    "            # calculate cost\n",
    "            loss = criterion(predicted, y_)\n",
    "            # calculate gradients\n",
    "            loss.backward()\n",
    "            # update nn weights\n",
    "            optimizer.step()\n",
    "            # try to save memory\n",
    "            gc.collect()\n",
    "            torch.cuda.empty_cache()\n",
    "        if epoch % 10 == 0:\n",
    "            print(f'Epoch {epoch}: loss={loss}')\n",
    "    sentiment_model.set_calc_time(time() - start_time)\n",
    "    print(f'Last epoch {epoch}: loss={loss}')\n",
    "    # save results to file\n",
    "    sentiment_model.save(model_file)"
   ]
  },
  {
   "attachments": {},
   "cell_type": "markdown",
   "metadata": {},
   "source": [
    "### Test"
   ]
  },
  {
   "cell_type": "code",
   "execution_count": null,
   "metadata": {},
   "outputs": [],
   "source": [
    "# Test accuracy\n",
    "predicted = sentiment_model(tensor(X_test, device=device, dtype=torch.float32))\n",
    "predicted = predicted.cpu().detach().numpy().reshape(y_test.shape[0])\n",
    "accuracy = 1.0 - np.abs(predicted-y_test).sum() / y_test.shape[0]\n",
    "print('Accuracy:', accuracy)\n",
    "# Store results\n",
    "METHODS[nn_name] = {'est': f'SentimentNN({X_train.shape[1]},{256},{128})',\n",
    "                    'acc': accuracy, 'time': sentiment_model.calc_time}"
   ]
  },
  {
   "attachments": {},
   "cell_type": "markdown",
   "metadata": {},
   "source": [
    "# Conclusion"
   ]
  },
  {
   "cell_type": "code",
   "execution_count": 35,
   "metadata": {},
   "outputs": [
    {
     "name": "stdout",
     "output_type": "stream",
     "text": [
      "\n",
      "============================================================\n",
      "Estimator accuracy and time comparison\n",
      "============================================================\n",
      "       Estimator: LogisticRegression(C=166.81005372000558, max_iter=5000, penalty='l1',\n",
      "                   solver='saga')\n",
      "       Accuracvy: 100.0 %\n",
      "Calculation time: 3154.7 s\n",
      "------------------------------------------------------------\n",
      "       Estimator: LinearSVC(C=0.01, max_iter=5000)\n",
      "       Accuracvy: 98.9 %\n",
      "Calculation time: 6.5 s\n",
      "------------------------------------------------------------\n",
      "       Estimator: SentimentNN(652,256,128)\n",
      "       Accuracvy: 90.4 %\n",
      "Calculation time: 599.8 s\n",
      "------------------------------------------------------------\n"
     ]
    },
    {
     "data": {
      "image/png": "[encoded data removed]",
      "text/plain": [
       "<Figure size 640x480 with 1 Axes>"
      ]
     },
     "metadata": {},
     "output_type": "display_data"
    }
   ],
   "source": [
    "from matplotlib import pyplot as plt\n",
    "# Plot datasets\n",
    "est_labels = []\n",
    "est_acc = []\n",
    "est_time = []\n",
    "# Print as table\n",
    "print('''\n",
    "============================================================\n",
    "Estimator accuracy and time comparison\n",
    "============================================================''')\n",
    "for k, method in METHODS.items():\n",
    "    print(f'''       Estimator: {method['est']}\n",
    "       Accuracvy: {method['acc']*100:.1f} %\n",
    "Calculation time: {method['time']:.1f} s\n",
    "------------------------------------------------------------''')\n",
    "    est_labels.append(k)\n",
    "    est_acc.append(method['acc']*100)\n",
    "    est_time.append(method['time'])\n",
    "# Plot\n",
    "plt.scatter(est_time, est_acc)\n",
    "plt.xlabel('Calculation Time [s]')\n",
    "plt.ylabel('Test Accuracy [%]')\n",
    "plt.title('Estimator Accuracy and Time Comparison')\n",
    "for i, txt in enumerate(est_time):\n",
    "    plt.annotate(est_labels[i], (est_time[i], est_acc[i]))\n",
    "plt.tight_layout()"
   ]
  }
 ],
 "metadata": {
  "kernelspec": {
   "display_name": "Python 3",
   "language": "python",
   "name": "python3"
  },
  "language_info": {
   "codemirror_mode": {
    "name": "ipython",
    "version": 3
   },
   "file_extension": ".py",
   "mimetype": "text/x-python",
   "name": "python",
   "nbconvert_exporter": "python",
   "pygments_lexer": "ipython3",
   "version": "3.11.1"
  },
  "orig_nbformat": 4
 },
 "nbformat": 4,
 "nbformat_minor": 2
}
