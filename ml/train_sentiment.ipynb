{
 "cells": [
  {
   "attachments": {},
   "cell_type": "markdown",
   "metadata": {},
   "source": [
    "# About\n",
    "\n",
    "* Test accuracy and training time for *LogisticRegression*, *LinearSVC* and out nn.Module (*SentimentNN*).\n",
    "* The ***sci-kit*** models optimized and fitted using *HalvingGridSearchCV*.\n",
    "* User sentiment data produced my our *build_sentiment.ipynb*."
   ]
  },
  {
   "attachments": {},
   "cell_type": "markdown",
   "metadata": {},
   "source": [
    "# Initialize"
   ]
  },
  {
   "attachments": {},
   "cell_type": "markdown",
   "metadata": {},
   "source": [
    "## Import functionality"
   ]
  },
  {
   "cell_type": "code",
   "execution_count": 1,
   "metadata": {},
   "outputs": [],
   "source": [
    "import gc\n",
    "import pickle\n",
    "import warnings\n",
    "from os.path import join\n",
    "from time import time\n",
    "from typing import Any\n",
    "\n",
    "import numpy as np\n",
    "import pandas as pd\n",
    "import torch\n",
    "from sklearn.experimental import enable_halving_search_cv  # noqa\n",
    "from sklearn.linear_model import LogisticRegression\n",
    "from sklearn.metrics import accuracy_score\n",
    "from sklearn.model_selection import HalvingGridSearchCV, train_test_split\n",
    "from sklearn.svm import LinearSVC\n",
    "from torch import nn, tensor\n",
    "from torch.utils.data import DataLoader, Dataset\n",
    "\n",
    "# Set device for torch.\n",
    "device = torch.device('cuda')"
   ]
  },
  {
   "attachments": {},
   "cell_type": "markdown",
   "metadata": {},
   "source": [
    "## Load data"
   ]
  },
  {
   "cell_type": "code",
   "execution_count": 2,
   "metadata": {},
   "outputs": [
    {
     "name": "stdout",
     "output_type": "stream",
     "text": [
      "Rows: 21440\n"
     ]
    }
   ],
   "source": [
    "# Data set folder\n",
    "SOURCE_DATA_FOLDER = ['..', 'datasets']\n",
    "# Load the sample data generated in 'build_sentiment.ipynb'.\n",
    "df_sentiment = pd.read_csv(join(*SOURCE_DATA_FOLDER, 'sentiment.csv'))\n",
    "print('Rows:', df_sentiment.shape[0])\n"
   ]
  },
  {
   "attachments": {},
   "cell_type": "markdown",
   "metadata": {},
   "source": [
    "## Split data"
   ]
  },
  {
   "cell_type": "code",
   "execution_count": 3,
   "metadata": {},
   "outputs": [
    {
     "name": "stdout",
     "output_type": "stream",
     "text": [
      "Train X/y: (16080, 492) (16080,)\n",
      "Test X/y: (5360, 492) (5360,)\n"
     ]
    }
   ],
   "source": [
    "# Split into features (X) and scores (y).\n",
    "y_set = np.array(list(df_sentiment['SCORE']))\n",
    "X_set = df_sentiment.to_numpy()[:, 1:]\n",
    "# Split into training and testing sets.\n",
    "X_train, X_test, y_train, y_test = train_test_split(\n",
    "    X_set, y_set)\n",
    "\n",
    "print('Train X/y:', X_train.shape, y_train.shape)\n",
    "print('Test X/y:', X_test.shape, y_test.shape)"
   ]
  },
  {
   "attachments": {},
   "cell_type": "markdown",
   "metadata": {},
   "source": [
    "## Load classifier function"
   ]
  },
  {
   "cell_type": "code",
   "execution_count": 4,
   "metadata": {},
   "outputs": [],
   "source": [
    "def load_or_calc(name: str, search: HalvingGridSearchCV, X: Any, y: Any) -> tuple[HalvingGridSearchCV, float]:\n",
    "    \"\"\"Calculator or load precalculated model.\n",
    "\n",
    "    Args:\n",
    "        name (str): _description_\n",
    "        search (HalvingGridSearchCV): _description_\n",
    "        X (Any): training featurtes\n",
    "        y (Any): training labels\n",
    "\n",
    "    Returns:\n",
    "        tuple[HalvingGridSearchCV,float|None]: Return the loaded or calculated estimator and calculation time.\n",
    "    \"\"\"\n",
    "    # Saved-state file\n",
    "    fn = name+'.bin'\n",
    "    try:\n",
    "        # Try opening saverd state.\n",
    "        with open(fn, 'rb') as f:\n",
    "            return pickle.load(f)\n",
    "    except:\n",
    "        # Search best hyperparams.\n",
    "        warnings.filterwarnings('ignore')\n",
    "        start_time = time()\n",
    "        search.fit(X, y)\n",
    "        ellapsed = time()-start_time\n",
    "        warnings.filterwarnings('default')\n",
    "        # Save state\n",
    "        with open(fn, 'wb') as f:\n",
    "            pickle.dump((search, ellapsed), f)\n",
    "        return (search, ellapsed)\n"
   ]
  },
  {
   "attachments": {},
   "cell_type": "markdown",
   "metadata": {},
   "source": [
    "# Optimize and Test"
   ]
  },
  {
   "cell_type": "code",
   "execution_count": 5,
   "metadata": {},
   "outputs": [],
   "source": [
    "# Test statistics\n",
    "METHODS = {}"
   ]
  },
  {
   "attachments": {},
   "cell_type": "markdown",
   "metadata": {},
   "source": [
    "## Optimize LogisticRegression"
   ]
  },
  {
   "cell_type": "code",
   "execution_count": 6,
   "metadata": {},
   "outputs": [],
   "source": [
    "# Name\n",
    "log_reg_name = 'LogisticRegression'\n",
    "# Possible LogisticRegression parameters.\n",
    "params = {\n",
    "    'penalty': ['l1', 'l2', 'elasticnet'],\n",
    "    'C': np.logspace(-4, 4, 10),\n",
    "    'solver': ['lbfgs', 'liblinear', 'newton-cg', 'newton-cholesky', 'sag', 'saga'],\n",
    "    'max_iter': [100, 1000, 2500, 5000]\n",
    "}\n",
    "# Parameter optimizer.\n",
    "search = HalvingGridSearchCV(\n",
    "    LogisticRegression(),\n",
    "    param_grid=params,\n",
    "    cv=5,\n",
    "    random_state=int(time()),\n",
    "    n_jobs=3,\n",
    "    verbose=1)\n"
   ]
  },
  {
   "cell_type": "code",
   "execution_count": 7,
   "metadata": {},
   "outputs": [
    {
     "name": "stdout",
     "output_type": "stream",
     "text": [
      "n_iterations: 5\n",
      "n_required_iterations: 6\n",
      "n_possible_iterations: 5\n",
      "min_resources_: 66\n",
      "max_resources_: 16080\n",
      "aggressive_elimination: False\n",
      "factor: 3\n",
      "----------\n",
      "iter: 0\n",
      "n_candidates: 720\n",
      "n_resources: 66\n",
      "Fitting 5 folds for each of 720 candidates, totalling 3600 fits\n",
      "----------\n",
      "iter: 1\n",
      "n_candidates: 240\n",
      "n_resources: 198\n",
      "Fitting 5 folds for each of 240 candidates, totalling 1200 fits\n",
      "----------\n",
      "iter: 2\n",
      "n_candidates: 80\n",
      "n_resources: 594\n",
      "Fitting 5 folds for each of 80 candidates, totalling 400 fits\n",
      "----------\n",
      "iter: 3\n",
      "n_candidates: 27\n",
      "n_resources: 1782\n",
      "Fitting 5 folds for each of 27 candidates, totalling 135 fits\n",
      "----------\n",
      "iter: 4\n",
      "n_candidates: 9\n",
      "n_resources: 5346\n",
      "Fitting 5 folds for each of 9 candidates, totalling 45 fits\n"
     ]
    }
   ],
   "source": [
    "# Calculate or load saved.\n",
    "classifier, calc_time = load_or_calc(log_reg_name, search, X_train, y_train)\n"
   ]
  },
  {
   "attachments": {},
   "cell_type": "markdown",
   "metadata": {},
   "source": [
    "### Test"
   ]
  },
  {
   "cell_type": "code",
   "execution_count": 8,
   "metadata": {},
   "outputs": [
    {
     "name": "stdout",
     "output_type": "stream",
     "text": [
      "Estimator: LogisticRegression(C=0.3593813663804626, max_iter=5000, penalty='l1',\n",
      "                   solver='saga')\n",
      "Accuracy: 1.0\n"
     ]
    }
   ],
   "source": [
    "# Print best params\n",
    "print('Estimator:', classifier.best_estimator_)\n",
    "# Test accuracy\n",
    "predicted = classifier.predict(X_test)\n",
    "accuracy = accuracy_score(y_test, predicted)\n",
    "print(\"Accuracy:\", accuracy)\n",
    "# Store results\n",
    "METHODS[log_reg_name] = {'est': str(\n",
    "    classifier.best_estimator_), 'acc': accuracy, 'time': calc_time}\n"
   ]
  },
  {
   "attachments": {},
   "cell_type": "markdown",
   "metadata": {},
   "source": [
    "## Optimize LinearSVC"
   ]
  },
  {
   "cell_type": "code",
   "execution_count": 9,
   "metadata": {},
   "outputs": [],
   "source": [
    "# Name\n",
    "lsvc_name = 'LinearSVC'\n",
    "# Possible LinearSVC parameters.\n",
    "params = {\n",
    "    'penalty': ['l1', 'l2'],\n",
    "    'loss': ['hinge', 'squared_hinge'],\n",
    "    'C': np.arange(0.01, 10, 1),\n",
    "    'max_iter': [100, 1000, 2500, 5000]\n",
    "}\n",
    "# Parameter optimizer.\n",
    "search = HalvingGridSearchCV(\n",
    "    LinearSVC(),\n",
    "    param_grid=params,\n",
    "    cv=5,\n",
    "    random_state=int(time()),\n",
    "    n_jobs=3,\n",
    "    verbose=1)\n"
   ]
  },
  {
   "cell_type": "code",
   "execution_count": 10,
   "metadata": {},
   "outputs": [
    {
     "name": "stdout",
     "output_type": "stream",
     "text": [
      "n_iterations: 5\n",
      "n_required_iterations: 5\n",
      "n_possible_iterations: 5\n",
      "min_resources_: 198\n",
      "max_resources_: 16080\n",
      "aggressive_elimination: False\n",
      "factor: 3\n",
      "----------\n",
      "iter: 0\n",
      "n_candidates: 160\n",
      "n_resources: 198\n",
      "Fitting 5 folds for each of 160 candidates, totalling 800 fits\n",
      "----------\n",
      "iter: 1\n",
      "n_candidates: 54\n",
      "n_resources: 594\n",
      "Fitting 5 folds for each of 54 candidates, totalling 270 fits\n",
      "----------\n",
      "iter: 2\n",
      "n_candidates: 18\n",
      "n_resources: 1782\n",
      "Fitting 5 folds for each of 18 candidates, totalling 90 fits\n",
      "----------\n",
      "iter: 3\n",
      "n_candidates: 6\n",
      "n_resources: 5346\n",
      "Fitting 5 folds for each of 6 candidates, totalling 30 fits\n",
      "----------\n",
      "iter: 4\n",
      "n_candidates: 2\n",
      "n_resources: 16038\n",
      "Fitting 5 folds for each of 2 candidates, totalling 10 fits\n"
     ]
    }
   ],
   "source": [
    "# Calculate or load saved.\n",
    "classifier, calc_time = load_or_calc(lsvc_name, search, X_train, y_train)\n"
   ]
  },
  {
   "attachments": {},
   "cell_type": "markdown",
   "metadata": {},
   "source": [
    "### Test"
   ]
  },
  {
   "cell_type": "code",
   "execution_count": 11,
   "metadata": {},
   "outputs": [
    {
     "name": "stdout",
     "output_type": "stream",
     "text": [
      "Estimator: LinearSVC(C=0.01, max_iter=5000)\n",
      "Accuracy: 0.9904850746268656\n"
     ]
    }
   ],
   "source": [
    "# Print best params\n",
    "print('Estimator:', classifier.best_estimator_)\n",
    "# Test accuracy\n",
    "predicted = classifier.predict(X_test)\n",
    "accuracy = accuracy_score(y_test, predicted)\n",
    "print(\"Accuracy:\", accuracy)\n",
    "# Store results\n",
    "METHODS[lsvc_name] = {'est': str(\n",
    "    classifier.best_estimator_), 'acc': accuracy, 'time': calc_time}\n"
   ]
  },
  {
   "attachments": {},
   "cell_type": "markdown",
   "metadata": {},
   "source": [
    "## Train Neural Net"
   ]
  },
  {
   "cell_type": "code",
   "execution_count": 38,
   "metadata": {},
   "outputs": [],
   "source": [
    "# Name\n",
    "nn_name = 'SentimentNN'\n",
    "\n",
    "\n",
    "class SentimentNN(nn.Module):\n",
    "    def __init__(self, num_features: int) -> None:\n",
    "        super().__init__()\n",
    "        self.fc = nn.Sequential(\n",
    "            nn.Linear(num_features, 256),\n",
    "            nn.ReLU(),\n",
    "            nn.Linear(256, 128),\n",
    "            nn.ReLU(),\n",
    "            nn.Linear(128, 3),\n",
    "            nn.ReLU()\n",
    "        )\n",
    "        self.calc_time = 0\n",
    "\n",
    "    def forward(self, x):\n",
    "        return self.fc(x)\n",
    "\n",
    "    def save(self, path: str) -> bool:\n",
    "        try:\n",
    "            torch.save(self.state_dict(), path)\n",
    "            return True\n",
    "        except:\n",
    "            return False\n",
    "\n",
    "    def load(self, path: str) -> bool:\n",
    "        try:\n",
    "            self.load_state_dict(torch.load(path))\n",
    "            self.eval()\n",
    "            return True\n",
    "        except:\n",
    "            return False\n",
    "\n",
    "    def set_calc_time(self, ellapsed: float):\n",
    "        self.calc_time = ellapsed\n",
    "\n",
    "class SentimentData(Dataset):\n",
    "    def __init__(self, X, y) -> None:\n",
    "        self.X = X\n",
    "        self.y = y\n",
    "\n",
    "    def __getitem__(self, index) -> Any:\n",
    "        return (\n",
    "            torch.tensor(self.X[index], dtype=torch.float32, device=device),\n",
    "            torch.tensor(self.y[index], dtype=torch.float32, device=device)\n",
    "        )\n",
    "\n",
    "    def __len__(self):\n",
    "        return len(self.X)\n"
   ]
  },
  {
   "cell_type": "code",
   "execution_count": 40,
   "metadata": {},
   "outputs": [
    {
     "name": "stdout",
     "output_type": "stream",
     "text": [
      "Epoch 0: loss=0.21813973784446716\n",
      "Epoch 10: loss=0.04732459783554077\n",
      "Epoch 20: loss=0.021799582988023758\n",
      "Epoch 30: loss=0.0035594087094068527\n",
      "Epoch 40: loss=0.0010870894184336066\n",
      "Epoch 50: loss=0.0025552897714078426\n",
      "Epoch 60: loss=0.0028518910985440016\n",
      "Epoch 70: loss=0.009018616750836372\n",
      "Epoch 80: loss=0.003901192918419838\n",
      "Epoch 90: loss=0.0048492541536688805\n",
      "Epoch 100: loss=0.003562967060133815\n",
      "Epoch 110: loss=0.0009323271224275231\n",
      "Epoch 120: loss=0.0005173568497411907\n",
      "Epoch 130: loss=0.0008533788495697081\n",
      "Epoch 140: loss=0.0008678986923769116\n",
      "Epoch 150: loss=0.0038814556319266558\n",
      "Epoch 160: loss=0.12626464664936066\n",
      "Epoch 170: loss=0.0009080074960365891\n",
      "Epoch 180: loss=0.00024504197062924504\n",
      "Epoch 190: loss=0.00011664656631182879\n",
      "Last epoch 199: loss=6.252589082578197e-05\n"
     ]
    }
   ],
   "source": [
    "model_file = 'SentimentNN.bin'\n",
    "sentiment_model = SentimentNN(X_train.shape[1]).to(\n",
    "    device=device, dtype=torch.float32)\n",
    "\n",
    "# Split y into binary classes.\n",
    "y_train_2 = []\n",
    "for y_val in y_train:\n",
    "    if y_val<0: y_train_2.append([1,0,0])\n",
    "    elif y_val>0: y_train_2.append([0,0,1])\n",
    "    else:y_train_2.append([0,1,0])\n",
    "y_test_2 = []\n",
    "for y_val in y_test:\n",
    "    if y_val<0: y_test_2.append([1,0,0])\n",
    "    elif y_val>0: y_test_2.append([0,0,1])\n",
    "    else:y_test_2.append([0,1,0])\n",
    "\n",
    "if not sentiment_model.load(model_file):\n",
    "    # Data batching\n",
    "    data_set = SentimentData(X_train, y_train_2)\n",
    "    loader = DataLoader(data_set, batch_size=1024, shuffle=True)\n",
    "    # create model\n",
    "    sentiment_model = SentimentNN(X_train.shape[1]).to(\n",
    "        device=device, dtype=torch.float32)\n",
    "    # create optimizer cunction\n",
    "    optimizer = torch.optim.Adam(sentiment_model.parameters())\n",
    "    # create loss function\n",
    "    criterion = nn.MSELoss()\n",
    "    # set passes\n",
    "    passes = 200\n",
    "    start_time = time()\n",
    "    # do training iterations\n",
    "    for epoch in range(passes):\n",
    "        # reset gradients\n",
    "        optimizer.zero_grad()\n",
    "        # batch load data each pass\n",
    "        for X_, y_ in loader:\n",
    "            # prediction\n",
    "            predicted = sentiment_model(X_).reshape(y_.shape)\n",
    "            # calculate cost\n",
    "            loss = criterion(predicted, y_)\n",
    "            # calculate gradients\n",
    "            loss.backward()\n",
    "            # update nn weights\n",
    "            optimizer.step()\n",
    "            # try to save memory\n",
    "            gc.collect()\n",
    "            torch.cuda.empty_cache()\n",
    "        if epoch % 10 == 0:\n",
    "            print(f'Epoch {epoch}: loss={loss}')\n",
    "    sentiment_model.set_calc_time(time() - start_time)\n",
    "    print(f'Last epoch {epoch}: loss={loss}')\n",
    "    # save results to file\n",
    "    sentiment_model.save(model_file)"
   ]
  },
  {
   "attachments": {},
   "cell_type": "markdown",
   "metadata": {},
   "source": [
    "### Test"
   ]
  },
  {
   "cell_type": "code",
   "execution_count": 41,
   "metadata": {},
   "outputs": [
    {
     "name": "stdout",
     "output_type": "stream",
     "text": [
      "Accuracy: 0.9944984027587656\n"
     ]
    }
   ],
   "source": [
    "# Test accuracy\n",
    "predicted = sentiment_model(tensor(X_test, device=device, dtype=torch.float32))\n",
    "predicted = predicted.cpu().detach().numpy()\n",
    "accuracy = np.amax(predicted*y_test_2,axis=1).sum() / predicted.shape[0]\n",
    "print('Accuracy:', accuracy)\n",
    "# Store results\n",
    "METHODS[nn_name] = {'est': f'SentimentNN({X_train.shape[1]},{256},{128})',\n",
    "                    'acc': accuracy, 'time': sentiment_model.calc_time}"
   ]
  },
  {
   "attachments": {},
   "cell_type": "markdown",
   "metadata": {},
   "source": [
    "# Conclusion"
   ]
  },
  {
   "cell_type": "code",
   "execution_count": 42,
   "metadata": {},
   "outputs": [
    {
     "name": "stdout",
     "output_type": "stream",
     "text": [
      "\n",
      "============================================================\n",
      "Estimator accuracy and time comparison\n",
      "============================================================\n",
      "       Estimator: LogisticRegression(C=0.3593813663804626, max_iter=5000, penalty='l1',\n",
      "                   solver='saga')\n",
      "       Accuracvy: 100.0 %\n",
      "Calculation time: 1383.9 s\n",
      "------------------------------------------------------------\n",
      "       Estimator: LinearSVC(C=0.01, max_iter=5000)\n",
      "       Accuracvy: 99.0 %\n",
      "Calculation time: 5.7 s\n",
      "------------------------------------------------------------\n",
      "       Estimator: SentimentNN(492,256,128)\n",
      "       Accuracvy: 99.4 %\n",
      "Calculation time: 652.1 s\n",
      "------------------------------------------------------------\n"
     ]
    },
    {
     "data": {
      "image/png": "[encoded data removed]",
      "text/plain": [
       "<Figure size 640x480 with 1 Axes>"
      ]
     },
     "metadata": {},
     "output_type": "display_data"
    }
   ],
   "source": [
    "from matplotlib import pyplot as plt\n",
    "# Plot datasets\n",
    "est_labels = []\n",
    "est_acc = []\n",
    "est_time = []\n",
    "# Print as table\n",
    "print('''\n",
    "============================================================\n",
    "Estimator accuracy and time comparison\n",
    "============================================================''')\n",
    "for k, method in METHODS.items():\n",
    "    print(f'''       Estimator: {method['est']}\n",
    "       Accuracvy: {method['acc']*100:.1f} %\n",
    "Calculation time: {method['time']:.1f} s\n",
    "------------------------------------------------------------''')\n",
    "    est_labels.append(k)\n",
    "    est_acc.append(method['acc']*100)\n",
    "    est_time.append(method['time'])\n",
    "# Plot\n",
    "plt.scatter(est_time, est_acc)\n",
    "plt.xlabel('Calculation Time [s]')\n",
    "plt.ylabel('Test Accuracy [%]')\n",
    "plt.title('Estimator Accuracy and Time Comparison')\n",
    "for i, txt in enumerate(est_time):\n",
    "    plt.annotate(est_labels[i], (est_time[i], est_acc[i]))\n",
    "plt.tight_layout()"
   ]
  },
  {
   "attachments": {},
   "cell_type": "markdown",
   "metadata": {},
   "source": [
    "## Choice of algorithm\n",
    "\n",
    "All of the above have good accuracy and the logistic regression has a suspicious 100% accuracy,\n",
    "but let's pretend that is true. I.e, we pick ***logistic regression*** for this task.\n",
    "\n",
    "The logistic regression calculation time was a hefty 1384s for our data set.\n",
    "If the data set had been of real world size then I would have gone for support vector instead,\n",
    "because of the very fast training time.\n",
    "\n",
    "Neural network would have been a good candidate if we were going to use numeric predictions,\n",
    "i.e. not only classify but see how strong the classification was.\n",
    "\n",
    "NOTES\n",
    "I only did 200 epocs on the NN to save time. It could possibly be on par with logistic regression\n",
    "results, but we will leave is as-is for now."
   ]
  }
 ],
 "metadata": {
  "kernelspec": {
   "display_name": "Python 3",
   "language": "python",
   "name": "python3"
  },
  "language_info": {
   "codemirror_mode": {
    "name": "ipython",
    "version": 3
   },
   "file_extension": ".py",
   "mimetype": "text/x-python",
   "name": "python",
   "nbconvert_exporter": "python",
   "pygments_lexer": "ipython3",
   "version": "3.11.1"
  },
  "orig_nbformat": 4
 },
 "nbformat": 4,
 "nbformat_minor": 2
}
